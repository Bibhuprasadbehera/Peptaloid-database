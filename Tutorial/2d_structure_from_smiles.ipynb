{
 "cells": [
  {
   "cell_type": "markdown",
   "id": "d3426840-77c5-430a-8441-0fc7bbbfea6f",
   "metadata": {},
   "source": [
    "Description\n",
    "\n",
    "This script performs the following tasks:\n",
    "\n",
    "    Reads a CSV file containing a column named \"smiles\".\n",
    "    Defines a function to draw the 2D structure of a molecule from its SMILES string.\n",
    "    Iterates over the DataFrame with a progress bar to draw and display the structures.\n",
    "    Measures and prints the runtime of the script.\n"
   ]
  },
  {
   "cell_type": "markdown",
   "id": "c2e230e3-3b3c-4974-9a65-f73ab28bc987",
   "metadata": {},
   "source": [
    "Instructions for Use\n",
    "\n",
    "    Ensure you have the required libraries installed:\n",
    "\n",
    "'''\n",
    "        pip install pandas rdkit-pypi tqdm\n",
    "'''\n",
    "\n",
    "Update the input_file_path variable with the path to your input CSV file.\n",
    "\n",
    "Run the script in a Jupyter Notebook. The script will read the input CSV file, process the SMILES strings to draw and display the 2D structures, and measure the runtime.\n"
   ]
  },
  {
   "cell_type": "code",
   "execution_count": null,
   "id": "847e1664-1adf-4909-8099-f8b09fe33153",
   "metadata": {},
   "outputs": [],
   "source": [
    "import pandas as pd\n",
    "from rdkit import Chem\n",
    "from rdkit.Chem import Draw\n",
    "from rdkit.Chem.Draw import rdMolDraw2D\n",
    "from IPython.display import SVG, display\n",
    "from tqdm import tqdm\n",
    "import time\n",
    "\n",
    "# Function to draw the 2D structure of a molecule from its SMILES string\n",
    "def draw_2d_structure(smiles, size=(300, 300)):\n",
    "    mol = Chem.MolFromSmiles(smiles)\n",
    "    if mol is not None:\n",
    "        drawer = rdMolDraw2D.MolDraw2DSVG(size[0], size[1])\n",
    "        drawer.DrawMolecule(mol)\n",
    "        drawer.FinishDrawing()\n",
    "        svg = drawer.GetDrawingText()\n",
    "        display(SVG(svg))\n",
    "\n",
    "# Read CSV file with a column named \"smiles\"\n",
    "input_file_path = 'input.csv'  # Update with your input file path\n",
    "df = pd.read_csv(input_file_path)\n",
    "\n",
    "# Check the structure of your DataFrame\n",
    "print(df.head())\n",
    "\n",
    "# Measure the runtime\n",
    "start_time = time.time()\n",
    "\n",
    "# Draw structures for the first 1000 SMILES strings in the DataFrame with a progress bar\n",
    "for index, row in tqdm(df.head(1000).iterrows(), total=1000):\n",
    "    smiles = row['smiles']\n",
    "    draw_2d_structure(smiles)\n",
    "\n",
    "end_time = time.time()\n",
    "\n",
    "# Print the runtime\n",
    "print(f\"Runtime: {end_time - start_time:.2f} seconds\")"
   ]
  }
 ],
 "metadata": {
  "kernelspec": {
   "display_name": "Python 3 (ipykernel)",
   "language": "python",
   "name": "python3"
  },
  "language_info": {
   "codemirror_mode": {
    "name": "ipython",
    "version": 3
   },
   "file_extension": ".py",
   "mimetype": "text/x-python",
   "name": "python",
   "nbconvert_exporter": "python",
   "pygments_lexer": "ipython3",
   "version": "3.9.7"
  }
 },
 "nbformat": 4,
 "nbformat_minor": 5
}

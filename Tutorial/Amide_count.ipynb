{
 "cells": [
  {
   "cell_type": "markdown",
   "id": "6fa3593b-881f-4759-88c3-91e7b7f33cf7",
   "metadata": {},
   "source": [
    "Description:\n",
    "\n",
    "This script performs the following tasks:\n",
    "\n",
    "    1. Reads a CSV file containing a column named \"smiles\".\n",
    "    2. Defines the amide group substructure using SMARTS notation.\n",
    "    3. Counts the number of amide groups in each molecule represented by the SMILES strings.\n",
    "    4. Adds a new column \"Amide_Count\" to the DataFrame to store the count of amide groups.\n",
    "    5. Iterates over the DataFrame with a progress bar to update the \"Amide_Count\" column.\n",
    "    6. Filters the DataFrame to include only molecules with two or more amide groups.\n",
    "    7. Saves the filtered DataFrame to a new CSV file.\n"
   ]
  },
  {
   "cell_type": "markdown",
   "id": "d698557c",
   "metadata": {},
   "source": [
    "Instructions for Use\n",
    "\n",
    "    Ensure you have the required libraries installed:\n",
    "\n",
    "'''\n",
    "        pip install pandas rdkit tqdm\n",
    "'''\n",
    "\n",
    "Update the input_file_path variable with the path to your input CSV file.\n",
    "\n",
    "Run the script. The script will read the input CSV file, process the SMILES strings to count amide groups, and save the filtered results to a new CSV file specified by output_file_path.\n"
   ]
  },
  {
   "cell_type": "code",
   "execution_count": null,
   "id": "b141319a-d2de-4409-b4de-fdf1335c8797",
   "metadata": {},
   "outputs": [],
   "source": [
    "import pandas as pd\n",
    "from rdkit import Chem\n",
    "from tqdm import tqdm\n",
    "\n",
    "# Define the amide group substructure\n",
    "amide_substructure = Chem.MolFromSmarts('C(=O)N')\n",
    "\n",
    "# Function to count the number of amide groups in a molecule\n",
    "def count_amide_groups(mol):\n",
    "    matches = mol.GetSubstructMatches(amide_substructure)\n",
    "    return len(matches)\n",
    "\n",
    "# Read CSV file with a column named \"smiles\"\n",
    "input_file_path = 'input.csv'  # Update with your input file path\n",
    "df = pd.read_csv(input_file_path)\n",
    "\n",
    "# Add a column to store the number of amide groups\n",
    "df['Amide_Count'] = 0\n",
    "\n",
    "# Iterate over the DataFrame with a progress bar\n",
    "for index, row in tqdm(df.iterrows(), total=len(df)):\n",
    "    smiles = row['smiles']\n",
    "    if isinstance(smiles, str):  # Check if the SMILES string is valid\n",
    "        mol = Chem.MolFromSmiles(smiles)\n",
    "        if mol is not None:\n",
    "            df.at[index, 'Amide_Count'] = count_amide_groups(mol)\n",
    "    else:\n",
    "        df.at[index, 'Amide_Count'] = None  # Set Amide_Count to None for rows with invalid SMILES\n",
    "\n",
    "# Filter the DataFrame to include only molecules with two or more amide groups\n",
    "filtered_df = df[df['Amide_Count'] >= 2]\n",
    "\n",
    "# Save the filtered DataFrame to a new CSV file\n",
    "output_file_path = \"output.csv\"  # Update with your desired output file path\n",
    "filtered_df.to_csv(output_file_path, index=False)\n",
    "\n",
    "print(f\"Filtered data with Amide_Count >= 2 saved to '{output_file_path}'.\")\n"
   ]
  }
 ],
 "metadata": {
  "kernelspec": {
   "display_name": "Python 3 (ipykernel)",
   "language": "python",
   "name": "python3"
  },
  "language_info": {
   "codemirror_mode": {
    "name": "ipython",
    "version": 3
   },
   "file_extension": ".py",
   "mimetype": "text/x-python",
   "name": "python",
   "nbconvert_exporter": "python",
   "pygments_lexer": "ipython3",
   "version": "3.9.7"
  }
 },
 "nbformat": 4,
 "nbformat_minor": 5
}

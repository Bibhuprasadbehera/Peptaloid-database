{
 "cells": [
  {
   "cell_type": "markdown",
   "id": "1e0032be-cd9f-4374-9321-d4824eb95e13",
   "metadata": {},
   "source": [
    "Description\n",
    "\n",
    "This script performs the following tasks:\n",
    "\n",
    "    Reads a CSV file containing a column named \"smiles\".\n",
    "    Defines a function to calculate various molecular properties using RDKit.\n",
    "    Iterates over the DataFrame with a progress bar to calculate properties for each SMILES string.\n",
    "    Adds new columns to the DataFrame to store the calculated properties.\n",
    "    Saves the updated DataFrame to a new CSV file.\n"
   ]
  },
  {
   "cell_type": "markdown",
   "id": "ad4e880f-2eef-4fbc-9e9e-32a17e111fc6",
   "metadata": {},
   "source": [
    "Instructions for Use\n",
    "\n",
    "    Ensure you have the required libraries installed:\n",
    "\n",
    "'''\n",
    "        pip install pandas rdkit tqdm\n",
    "'''\n",
    "\n",
    "Update the input_file_path variable with the path to your input CSV file.\n",
    "\n",
    "Run the script. The script will read the input CSV file, process the SMILES strings to calculate molecular properties, and save the results to a new CSV file specified by output_file_path.\n"
   ]
  },
  {
   "cell_type": "code",
   "execution_count": null,
   "id": "43f9dc4d-2cdf-40a2-a6e0-d2a66e302a1b",
   "metadata": {},
   "outputs": [],
   "source": [
    "import pandas as pd\n",
    "from rdkit import Chem\n",
    "from rdkit.Chem import Descriptors, Crippen, QED\n",
    "from tqdm import tqdm\n",
    "\n",
    "# Function to calculate molecular properties from SMILES\n",
    "def calculate_properties(smiles):\n",
    "    mol = Chem.MolFromSmiles(smiles)\n",
    "    if mol is not None:\n",
    "        properties = {\n",
    "            'SlogP': Descriptors.MolLogP(mol),\n",
    "            'TPSA': Descriptors.TPSA(mol),\n",
    "            'Exact_MW': Descriptors.ExactMolWt(mol),\n",
    "            'Num_Rotatable_Bonds': Descriptors.NumRotatableBonds(mol),\n",
    "            'Num_HBD': Descriptors.NumHDonors(mol),\n",
    "            'Num_HBA': Descriptors.NumHAcceptors(mol),\n",
    "            'Num_Hetero_Atoms': Descriptors.NumHeteroatoms(mol),\n",
    "            'Num_Heavy_Atoms': Descriptors.HeavyAtomCount(mol),\n",
    "            'Num_Atoms': mol.GetNumAtoms(),\n",
    "            'Num_StereoCenters': len(Chem.FindMolChiralCenters(mol, includeUnassigned=True)),\n",
    "            'Num_Aromatic_Rings': Descriptors.NumAromaticRings(mol),\n",
    "            'Num_Saturated_Rings': Descriptors.NumSaturatedRings(mol),\n",
    "            'Num_Aliphatic_Rings': Descriptors.NumAliphaticRings(mol),\n",
    "            'InChIKey': Chem.inchi.MolToInchiKey(mol),\n",
    "            'MolecularFormula': Chem.rdMolDescriptors.CalcMolFormula(mol),\n",
    "            'carbon_count': mol.GetNumAtoms(6),\n",
    "            'CX_LogP': Crippen.MolLogP(mol),\n",
    "            'CX_LogD': Crippen.MolMR(mol),\n",
    "            'Heavy_Atoms': Descriptors.HeavyAtomCount(mol),\n",
    "            'qed_score': QED.qed(mol),\n",
    "            'Alcohol': len(mol.GetSubstructMatches(Chem.MolFromSmarts('[OH]'))),\n",
    "            'Aldehyde': len(mol.GetSubstructMatches(Chem.MolFromSmarts('[CX3]=[OX1]'))),\n",
    "            'Carboxylic Acid': len(mol.GetSubstructMatches(Chem.MolFromSmarts('[CX3](=O)[OX2H1]'))),\n",
    "            'Amine': len(mol.GetSubstructMatches(Chem.MolFromSmarts('[NX3;H2,H1;!$(NC=O)]'))),\n",
    "            'Thiol': len(mol.GetSubstructMatches(Chem.MolFromSmarts('[SX2H1]'))),\n",
    "        }\n",
    "        return properties\n",
    "    else:\n",
    "        return None\n",
    "\n",
    "# Read CSV file with a column named \"smiles\"\n",
    "input_file_path = 'input.csv'  # Update with your input file path\n",
    "df = pd.read_csv(input_file_path)\n",
    "\n",
    "# Iterate over the DataFrame with a progress bar\n",
    "for index, row in tqdm(df.iterrows(), total=len(df)):\n",
    "    smiles = row['smiles']\n",
    "    if isinstance(smiles, str):  # Check if the SMILES string is valid\n",
    "        properties = calculate_properties(smiles)\n",
    "        if properties is not None:\n",
    "            for key, value in properties.items():\n",
    "                df.at[index, key] = value\n",
    "\n",
    "# Save the updated DataFrame to a new CSV file\n",
    "output_file_path = \"output.csv\"  # Update with your desired output file path\n",
    "df.to_csv(output_file_path, index=False)\n",
    "\n",
    "print(f\"Updated data with molecular properties saved to '{output_file_path}'.\")\n"
   ]
  }
 ],
 "metadata": {
  "kernelspec": {
   "display_name": "Python 3 (ipykernel)",
   "language": "python",
   "name": "python3"
  },
  "language_info": {
   "codemirror_mode": {
    "name": "ipython",
    "version": 3
   },
   "file_extension": ".py",
   "mimetype": "text/x-python",
   "name": "python",
   "nbconvert_exporter": "python",
   "pygments_lexer": "ipython3",
   "version": "3.9.7"
  }
 },
 "nbformat": 4,
 "nbformat_minor": 5
}

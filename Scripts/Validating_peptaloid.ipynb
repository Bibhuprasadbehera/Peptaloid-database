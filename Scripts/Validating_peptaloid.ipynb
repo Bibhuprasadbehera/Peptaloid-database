{
 "cells": [
  {
   "cell_type": "markdown",
   "id": "3b6b7aed-bc99-4481-aea1-1afe0ce31732",
   "metadata": {},
   "source": [
    "Description\n",
    "\n",
    "This script performs the following tasks:\n",
    "\n",
    "    Reads a CSV file containing a column named \"Smiles\".\n",
    "    Defines the alkaloid and peptide bond substructures using SMARTS notation.\n",
    "    Defines a function to check for the presence of a substructure in a molecule.\n",
    "    Iterates over the DataFrame with a progress bar to check for the presence of the substructures.\n",
    "    Adds new columns to the DataFrame to store the results.\n",
    "    Filters the DataFrame to include only rows where both substructures are present.\n",
    "    Saves the filtered DataFrame to a new CSV file.\n"
   ]
  },
  {
   "cell_type": "markdown",
   "id": "adcf7e48-2778-40d8-a572-9069b274a41b",
   "metadata": {},
   "source": [
    "Instructions for Use\n",
    "\n",
    "    Ensure you have the required libraries installed:\n",
    "\n",
    "'''\n",
    "pip install pandas rdkit tqdm\n",
    "'''\n",
    "\n",
    "Update the input_file_path variable with the path to your input CSV file.\n",
    "\n",
    "Run the script. The script will read the input CSV file, process the SMILES strings to check for the presence of alkaloid and peptide bond substructures, and save the results to a new CSV file specified by output_file_path.\n"
   ]
  },
  {
   "cell_type": "code",
   "execution_count": null,
   "id": "6ecf89e5-635a-45bd-9801-6bc56f4e2ff9",
   "metadata": {},
   "outputs": [],
   "source": [
    "import pandas as pd\n",
    "from rdkit import Chem\n",
    "from tqdm import tqdm\n",
    "\n",
    "# Define alkaloid and peptide bond substructures\n",
    "alkaloid_substructure = Chem.MolFromSmarts('[N+]')\n",
    "peptide_bond_substructure = Chem.MolFromSmarts('C(=O)NCC')\n",
    "\n",
    "# Function to check for substructure presence\n",
    "def has_substructure(mol, substructure):\n",
    "    return mol.HasSubstructMatch(substructure)\n",
    "\n",
    "# Read CSV file with a column named \"Smiles\"\n",
    "input_file_path = 'input.csv'  # Update with your input file path\n",
    "df = pd.read_csv(input_file_path)\n",
    "\n",
    "# Add columns for alkaloid and peptide bond presence\n",
    "df['Has_Alkaloid'] = False\n",
    "df['Has_Peptide_Bond'] = False\n",
    "\n",
    "# Iterate over the DataFrame with a progress bar\n",
    "for index, row in tqdm(df.iterrows(), total=len(df)):\n",
    "    mol = Chem.MolFromSmiles(row['Smiles'])\n",
    "    if mol is not None:\n",
    "        df.at[index, 'Has_Alkaloid'] = has_substructure(mol, alkaloid_substructure)\n",
    "        df.at[index, 'Has_Peptide_Bond'] = has_substructure(mol, peptide_bond_substructure)\n",
    "\n",
    "# Filter the DataFrame to include only rows where both substructures are present\n",
    "filtered_df = df[(df['Has_Alkaloid']) & (df['Has_Peptide_Bond'])]\n",
    "\n",
    "# Display the results\n",
    "print(filtered_df[['ChEMBL ID', 'Has_Alkaloid', 'Has_Peptide_Bond']])\n",
    "\n",
    "# Save the filtered DataFrame to a new CSV file\n",
    "output_file_path = \"output.csv\"  # Update with your desired output file path\n",
    "filtered_df.to_csv(output_file_path, index=False)\n",
    "\n",
    "print(f\"Filtered data with both alkaloid and peptide bond substructures saved to '{output_file_path}'.\")\n"
   ]
  }
 ],
 "metadata": {
  "kernelspec": {
   "display_name": "Python 3 (ipykernel)",
   "language": "python",
   "name": "python3"
  },
  "language_info": {
   "codemirror_mode": {
    "name": "ipython",
    "version": 3
   },
   "file_extension": ".py",
   "mimetype": "text/x-python",
   "name": "python",
   "nbconvert_exporter": "python",
   "pygments_lexer": "ipython3",
   "version": "3.9.7"
  }
 },
 "nbformat": 4,
 "nbformat_minor": 5
}
